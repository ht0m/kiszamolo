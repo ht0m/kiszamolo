{
 "cells": [
  {
   "cell_type": "code",
   "execution_count": 2,
   "id": "81da4c77-1f3a-4e7c-b42c-2c1d41bef1f6",
   "metadata": {},
   "outputs": [],
   "source": [
    "# A későbbiekben felhasznált csomagok importálása\n",
    "\n",
    "from openai import OpenAI\n",
    "import yaml\n",
    "import requests\n",
    "from bs4 import BeautifulSoup\n",
    "import ipywidgets as widgets\n",
    "from IPython.display import display, clear_output, HTML"
   ]
  },
  {
   "cell_type": "code",
   "execution_count": 3,
   "id": "db83fdb1-1d73-4674-b073-b754aa4f4b03",
   "metadata": {},
   "outputs": [],
   "source": [
    "# A HTML-ben ajax hívások is lehetnek, amelyek további kommenteket töltenek be\n",
    "# Az ajax hívások kommentjeit itt gyűjtöm össze\n",
    "\n",
    "def parse_ajax_comments(post_id, total_ajax_comments, last_parent):\n",
    "    ajax_comments = []\n",
    "    offset = 1\n",
    "    ajax_url = \"https://kiszamolo.hu/wp-admin/admin-ajax.php\"\n",
    "    while len(ajax_comments) < total_ajax_comments:\n",
    "        payload = {\n",
    "            \"action\": \"wpdLoadMoreComments\",\n",
    "            \"sorting\": \"oldest\",\n",
    "            \"offset\": offset,\n",
    "            \"lastParentId\": last_parent,\n",
    "            \"isFirstLoad\": 0,\n",
    "            \"wpdType\": \"post\",\n",
    "            \"postId\": post_id,\n",
    "        }\n",
    "        response = requests.post(ajax_url, data=payload)\n",
    "        html = response.json()[\"data\"]['comment_list']\n",
    "        soup = BeautifulSoup(html, 'html.parser')\n",
    "        comment_divs = soup.find_all(\"div\", class_=\"wpd-comment\")\n",
    "        for div in comment_divs:\n",
    "            text_div = div.find(\"div\", class_=\"wpd-comment-text\")\n",
    "            comment = text_div.get_text(strip=True) if text_div else None\n",
    "            ajax_comments.append(comment)\n",
    "        last_parent = comment_divs[-1].get(\"id\").replace(\"wpd-comm-\", \"\").split('_')[0] if comment_divs else 0\n",
    "        offset += 1\n",
    "    return ajax_comments"
   ]
  },
  {
   "cell_type": "code",
   "execution_count": 4,
   "id": "4b4670e2-55a1-4bf8-9b31-117d1e532dbf",
   "metadata": {},
   "outputs": [],
   "source": [
    "# Az url alapján parse-olom a kommenteket\n",
    "# Ha kevesebb komment van, mint amennyit a wpd-thread-info class mutat, akkor ajax hívásokkal jön a többi\n",
    "# (az újabb cikkek esetében már nincsenek ajax hívások, de korábban voltak)\n",
    "\n",
    "def parse_comments(url):\n",
    "    response = requests.get(url)\n",
    "    response.encoding = 'utf-8'\n",
    "    soup = BeautifulSoup(response.text, 'html.parser')\n",
    "    info_div = soup.find(\"div\", class_=\"wpd-thread-info\")\n",
    "    total_comments = int(info_div[\"data-comments-count\"]) if info_div else 0\n",
    "    comment_divs = soup.find_all(\"div\", class_=\"wpd-comment\")\n",
    "    comments=[]\n",
    "    for div in comment_divs:\n",
    "        text_div = div.find(\"div\", class_=\"wpd-comment-text\")\n",
    "        comment = text_div.get_text(strip=True) if text_div else None\n",
    "        comments.append(comment)\n",
    "    if len(comments) >= total_comments:\n",
    "        return comments  \n",
    "    else:\n",
    "        shortlink = soup.find(\"link\", rel=\"shortlink\") # A postId lekérése ajaxhoz\n",
    "        post_id = None\n",
    "        if shortlink and \"?p=\" in shortlink[\"href\"]:\n",
    "            post_id = shortlink[\"href\"].split(\"?p=\")[-1]\n",
    "        last_parent = comment_divs[-1].get(\"id\").replace(\"wpd-comm-\", \"\").split('_')[0] if comment_divs else 0 # Last_parent lekérése ajaxhoz\n",
    "        total_ajax_comments = total_comments - len(comments)\n",
    "        ajax_comments = parse_ajax_comments(post_id, total_ajax_comments, last_parent)\n",
    "        return comments + ajax_comments"
   ]
  },
  {
   "cell_type": "code",
   "execution_count": 5,
   "id": "6cb392cf-7301-4d28-8c95-84f6890f5b89",
   "metadata": {},
   "outputs": [],
   "source": [
    "# Ezek a függvények a megadott keresőszó és oldalszám alapján visszaadják a cikkek címét, dátumát,  url-jét, tatralmát\n",
    "# Az alapstringbe (ezek lesznek az opciók a widgetben) dátum és a cím kerül\n",
    "# A valueba pedig egy tuple kerül, hogy a widgetben kezelni tudjam a HTML tartalmat is és a linket is külön\n",
    "\n",
    "def build_html(content, title, link):\n",
    "    return (f\"<div style='margin: 0; padding: 0; line-height:1.4; font-family: Arial, sans-serif; font-size: 14px;text-align: justify;'>\"\n",
    "            f\"<h4 style='margin: 0 0 6px 0;'>{title.upper()}</h4>\"\n",
    "            f\"{content}<br><br>\"\n",
    "            f\"<a href='{link}' target='_blank' style='color: #2980b9; text-decoration: none;'>{link}</a>\"\n",
    "            f\"</div>\")\n",
    "\n",
    "def get_urls_from_kiszamolo_page(page, search_text):\n",
    "    result = []\n",
    "    url = f\"https://kiszamolo.hu/page/{page}/?s={search_text}\" if page > 1 else f\"https://kiszamolo.hu/?s={search_text}\"    \n",
    "    response = requests.get(url)\n",
    "    response.encoding = 'utf-8'\n",
    "    soup = BeautifulSoup(response.text, 'html.parser')\n",
    "    articles = soup.find_all('article', class_='oxy-post')\n",
    "    for article in articles:\n",
    "        a_tag = article.find('a', class_='oxy-post-title')\n",
    "        title = a_tag.text.strip()\n",
    "        link = a_tag['href']\n",
    "        # Dátum\n",
    "        date_div = article.find('div', class_='oxy-post-meta-date')\n",
    "        date = date_div.text.strip() if date_div else 'N/A'\n",
    "        # Tartalom\n",
    "        content_div = article.find('div', class_='oxy-post-content')\n",
    "        content = content_div.text.strip() if content_div else 'N/A'\n",
    "        html_content = build_html(content, title, link)\n",
    "        content_tuple = (html_content, link)\n",
    "        result.append((f\"{date}  |  {title}\", content_tuple))\n",
    "    return result"
   ]
  },
  {
   "cell_type": "markdown",
   "id": "6ae43d59-e4e2-411d-824a-ca9f4f6880ba",
   "metadata": {},
   "source": [
    "**Copy this text to auth.yaml and fill in your own OpenAI API key** <br>\n",
    "openai_api_key: \"YOUR_OPENAI_API_KEY_HERE\""
   ]
  },
  {
   "cell_type": "code",
   "execution_count": 6,
   "id": "751329cb-68bf-4ea5-9a01-915505058735",
   "metadata": {},
   "outputs": [],
   "source": [
    "# Az OpenAI prompt összeállítása, majd az API meghívása az összegfoglaláshoz\n",
    "\n",
    "credentials = yaml.load(open('auth.yaml'), Loader=yaml.FullLoader)\n",
    "OPENAI_APIKEY = credentials.get('OPENAI_APIKEY')\n",
    "\n",
    "def ask_ai(comments_list, verbosity):\n",
    "    comments = \"\\n\".join(comments_list) #listából szöveggé alakítjuk a kommenteket\n",
    "    message = f\"\"\" \n",
    "    Itt van egy cikkhez érkezett kommentek listája. \n",
    "    Foglaljad össze a főbb véleményeket, úgy, hogy:\n",
    "\n",
    "    1. A főbb vélemények számozott listába szedve jelenjenek meg (<ol><li>…</li></ol>), ne pontokban.\n",
    "    2. NE tegyél semmilyen kódblokk jelölést (pl. ```html).\n",
    "    2. Szerepeljenek konkrét számok, ha a kommentelők említenek (pl. árak, százalékok, mennyiségek).\n",
    "    3. Jelezd, ha többen ugyanazt a számot vagy adatot írják.\n",
    "    4. Maximum {verbosity} pont legyen, ha kevés komment van, lehet rövidebb.\n",
    "    \n",
    "    Kommentek: {comments}\n",
    "    \"\"\"\n",
    "    client = OpenAI(api_key=OPENAI_APIKEY)\n",
    "    response = client.chat.completions.create(\n",
    "        model=\"gpt-4o-mini\",\n",
    "        messages=[{\"role\": \"user\", \"content\": message}])\n",
    "    return response.choices[0].message.content"
   ]
  },
  {
   "cell_type": "code",
   "execution_count": 7,
   "id": "6f336e97-e08f-426e-abe3-36f9148f2bf6",
   "metadata": {},
   "outputs": [
    {
     "data": {
      "application/vnd.jupyter.widget-view+json": {
       "model_id": "13b1b0a40761495b95c5572c106c4b3f",
       "version_major": 2,
       "version_minor": 0
      },
      "text/plain": [
       "HBox(children=(Text(value='', description='Keresőszó:', layout=Layout(width='350px'), placeholder='Keresés cik…"
      ]
     },
     "metadata": {},
     "output_type": "display_data"
    },
    {
     "data": {
      "application/vnd.jupyter.widget-view+json": {
       "model_id": "96a640708606445483d711d4cc8c2f94",
       "version_major": 2,
       "version_minor": 0
      },
      "text/plain": [
       "Select(description='Cikkek:', layout=Layout(width='740px'), options=(('2025-08-31  |  A ChatGPT szerint így ke…"
      ]
     },
     "metadata": {},
     "output_type": "display_data"
    },
    {
     "data": {
      "application/vnd.jupyter.widget-view+json": {
       "model_id": "f3041254158247648b9077dcedee8a1e",
       "version_major": 2,
       "version_minor": 0
      },
      "text/plain": [
       "IntText(value=1, description='Oldal:', layout=Layout(width='150px'))"
      ]
     },
     "metadata": {},
     "output_type": "display_data"
    },
    {
     "data": {
      "application/vnd.jupyter.widget-view+json": {
       "model_id": "692a6aefe9f94050aacbcc19d77c5174",
       "version_major": 2,
       "version_minor": 0
      },
      "text/plain": [
       "HTML(value=\"<div style='margin: 0; padding: 0; line-height:1.4; font-family: Arial, sans-serif; font-size: 14p…"
      ]
     },
     "metadata": {},
     "output_type": "display_data"
    },
    {
     "data": {
      "application/vnd.jupyter.widget-view+json": {
       "model_id": "f2a8c0b092274d1cb0c3080094ce38e5",
       "version_major": 2,
       "version_minor": 0
      },
      "text/plain": [
       "IntSlider(value=10, description='Összefoglaló tömörsége:', layout=Layout(height='40px', width='450px'), max=25…"
      ]
     },
     "metadata": {},
     "output_type": "display_data"
    },
    {
     "data": {
      "application/vnd.jupyter.widget-view+json": {
       "model_id": "1410d7b03fbc498087dc70d09b972372",
       "version_major": 2,
       "version_minor": 0
      },
      "text/plain": [
       "Button(button_style='primary', description='Kérem a kommentek összefoglalását', layout=Layout(margin='0 0 0 90…"
      ]
     },
     "metadata": {},
     "output_type": "display_data"
    },
    {
     "data": {
      "application/vnd.jupyter.widget-view+json": {
       "model_id": "681fd650789e414da0d38af26b289509",
       "version_major": 2,
       "version_minor": 0
      },
      "text/plain": [
       "HTML(value='', layout=Layout(margin='20px 0 20px 90px', width='650px'))"
      ]
     },
     "metadata": {},
     "output_type": "display_data"
    }
   ],
   "source": [
    "# IPyWidgets objektumok létrehozása és felrakása a képernyőre\n",
    "# Valamint a widgetek eseményeinek kezelése\n",
    "\n",
    "# Keresőmező widget\n",
    "search_input = widgets.Text(\n",
    "    value = '',\n",
    "    placeholder='Keresés cikkek között...',\n",
    "    description='Keresőszó:',\n",
    "    layout=widgets.Layout(width='350px'))\n",
    "\n",
    "# Keresőgomb widget\n",
    "search_button = widgets.Button(\n",
    "    description='🔍',\n",
    "    tooltip= 'Keresés',\n",
    "    layout=widgets.Layout(width='40px'))\n",
    "\n",
    "# Keresőgomb eseménye\n",
    "def search(_=None):\n",
    "    page_selector.value = 1\n",
    "    page = page_selector.value\n",
    "    search_text = search_input.value.strip()\n",
    "    article_selector.options = get_urls_from_kiszamolo_page(page, search_text)\n",
    "    \n",
    "search_button.on_click(search)\n",
    "\n",
    "# Oldalválasztó\n",
    "page_selector = widgets.IntText(\n",
    "    value=1,\n",
    "    description='Oldal:',\n",
    "    layout=widgets.Layout(width='150px'))\n",
    "\n",
    "# Oldalszám változásakor a cikklista frissítése\n",
    "def on_page_change(change):\n",
    "    if change['new'] < 1:\n",
    "        page_selector.value = 1  \n",
    "    article_selector.options = get_urls_from_kiszamolo_page(page_selector.value, search_input.value.strip())\n",
    "\n",
    "# Figyeli az oldalválasztó értékének változását\n",
    "page_selector.observe(on_page_change, names='value')\n",
    "\n",
    "# Cikkválasztó widget\n",
    "article_selector = widgets.Select(\n",
    "    options= get_urls_from_kiszamolo_page(page_selector.value, search_input.value.strip()),\n",
    "    description='Cikkek:',\n",
    "    rows= 15,\n",
    "    layout=widgets.Layout(width='740px'))\n",
    "                            \n",
    "def on_select_change(change):\n",
    "    textbox.value = change['new'][0] or ''\n",
    "    ai_response.value = ''\n",
    "\n",
    "# Figyeli a cikkválasztó értékének változását\n",
    "article_selector.observe(on_select_change, names='value')\n",
    "\n",
    "# HTML widget, itt jelenik meg a cikk rövid tartalma\n",
    "textbox = widgets.HTML(\n",
    "        layout=widgets.Layout(margin='20px 0 20px 90px', width = '650px'),\n",
    "        value=article_selector.value[0])\n",
    "\n",
    "# Gomb az összefoglaláshoz\n",
    "summarize_button = widgets.Button(\n",
    "    description=\"Kérem a kommentek összefoglalását\",\n",
    "    button_style='primary',\n",
    "    layout=widgets.Layout(width=\"250px\", margin='0 0 0 90px'))\n",
    "\n",
    "# Ezzel a csúszkával lehet állítani, hogy hány pontban válaszoljon az LLM\n",
    "verbose_slider = widgets.IntSlider(\n",
    "    min=4,\n",
    "    max=25, \n",
    "    value=10,\n",
    "    description=\"Összefoglaló tömörsége:\",\n",
    "    style={'description_width': '230px', \n",
    "        'handle_color': 'blue'},\n",
    "    layout=widgets.Layout(\n",
    "        width='450px',\n",
    "        height='40px'))\n",
    "\n",
    "# Ha kattintunk a gombra, parse-oljuk a kiválasztott oldalról a kommenteket, és átadjuk egy listában az ask_ai függvénynek (ha nem üres a lista)\n",
    "# Átadjuk az ask_ai()-nak tömörségre vonatkozó slider értékét is\n",
    "# Az eredményeket megjelenítjük egy HTML widgetsben\n",
    "def on_summarize_click(b):\n",
    "    style_title = \"font-size: 16px; font-weight: bold;\"\n",
    "    style_body = \"margin: 5px 0 0 0; padding: 0; line-height:1.4; font-family: Arial, sans-serif; font-size: 14px;text-align: justify;\"\n",
    "    selected_article_link = article_selector.value[1]\n",
    "    ai_response.value = f\"<div style='{style_body}'>Openai is working on comments for {selected_article_link}</div>\"\n",
    "    comments = parse_comments(selected_article_link)\n",
    "    if not comments:\n",
    "        ai_response.value = f\"<div style='{style_body}'>A cikkhez nincsenek hozzászólások</div>\"\n",
    "    else:         \n",
    "        response = ask_ai(comments, verbose_slider.value)\n",
    "        ai_response.value = f\"\"\"\n",
    "                              <div style=\"{style_title}\">Kommentek összefoglalása::</div>\n",
    "                              <div style=\"{style_body}\">{response}</div>                          \n",
    "                            \"\"\"        \n",
    "                                           \n",
    "summarize_button.on_click(on_summarize_click)\n",
    "\n",
    "# Itt fog megjelenni az OpenAi válasza\n",
    "ai_response = widgets.HTML(\n",
    "        layout=widgets.Layout(margin='20px 0 20px 90px', width='650px'))\n",
    "\n",
    "# A widgetek megjelenítése\n",
    "search_box = widgets.HBox([search_input, search_button])\n",
    "display(search_box, article_selector, page_selector, textbox, verbose_slider, summarize_button, ai_response)"
   ]
  }
 ],
 "metadata": {
  "kernelspec": {
   "display_name": "Python 3 (ipykernel)",
   "language": "python",
   "name": "python3"
  },
  "language_info": {
   "codemirror_mode": {
    "name": "ipython",
    "version": 3
   },
   "file_extension": ".py",
   "mimetype": "text/x-python",
   "name": "python",
   "nbconvert_exporter": "python",
   "pygments_lexer": "ipython3",
   "version": "3.8.10"
  }
 },
 "nbformat": 4,
 "nbformat_minor": 5
}
